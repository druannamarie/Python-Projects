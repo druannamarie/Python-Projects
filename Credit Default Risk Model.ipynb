{
 "cells": [
  {
   "cell_type": "markdown",
   "id": "822becc9",
   "metadata": {},
   "source": [
    "# Credit Default Risk Model"
   ]
  },
  {
   "cell_type": "markdown",
   "id": "7d16419f",
   "metadata": {},
   "source": [
    "## Introduction"
   ]
  },
  {
   "cell_type": "code",
   "execution_count": 1,
   "id": "4a96afe5",
   "metadata": {},
   "outputs": [],
   "source": [
    "import pandas as pd\n",
    "import numpy as np\n",
    "import matplotlib.pyplot as plt\n",
    "import seaborn as sns\n",
    "%matplotlib inline\n",
    "sns.set_style('whitegrid')"
   ]
  },
  {
   "cell_type": "code",
   "execution_count": 2,
   "id": "91e14c24",
   "metadata": {},
   "outputs": [],
   "source": [
    "pd.set_option('display.float_format', lambda x: '%.3f' % x) \n",
    "#this sets a global change to make all scientific notations into\n",
    "#longform numbers. TO reset the change use pd.reset_option('display.float_format')"
   ]
  },
  {
   "cell_type": "code",
   "execution_count": 3,
   "id": "b4a92a05",
   "metadata": {},
   "outputs": [],
   "source": [
    "df = pd.read_csv('credit_risk_dataset.csv')"
   ]
  },
  {
   "cell_type": "code",
   "execution_count": 4,
   "id": "2a4312e6",
   "metadata": {},
   "outputs": [
    {
     "data": {
      "text/html": [
       "<div>\n",
       "<style scoped>\n",
       "    .dataframe tbody tr th:only-of-type {\n",
       "        vertical-align: middle;\n",
       "    }\n",
       "\n",
       "    .dataframe tbody tr th {\n",
       "        vertical-align: top;\n",
       "    }\n",
       "\n",
       "    .dataframe thead th {\n",
       "        text-align: right;\n",
       "    }\n",
       "</style>\n",
       "<table border=\"1\" class=\"dataframe\">\n",
       "  <thead>\n",
       "    <tr style=\"text-align: right;\">\n",
       "      <th></th>\n",
       "      <th>person_age</th>\n",
       "      <th>person_income</th>\n",
       "      <th>person_home_ownership</th>\n",
       "      <th>person_emp_length</th>\n",
       "      <th>loan_intent</th>\n",
       "      <th>loan_grade</th>\n",
       "      <th>loan_amnt</th>\n",
       "      <th>loan_int_rate</th>\n",
       "      <th>loan_status</th>\n",
       "      <th>loan_percent_income</th>\n",
       "      <th>cb_person_default_on_file</th>\n",
       "      <th>cb_person_cred_hist_length</th>\n",
       "    </tr>\n",
       "  </thead>\n",
       "  <tbody>\n",
       "    <tr>\n",
       "      <th>0</th>\n",
       "      <td>22</td>\n",
       "      <td>59000</td>\n",
       "      <td>RENT</td>\n",
       "      <td>123.000</td>\n",
       "      <td>PERSONAL</td>\n",
       "      <td>D</td>\n",
       "      <td>35000</td>\n",
       "      <td>16.020</td>\n",
       "      <td>1</td>\n",
       "      <td>0.590</td>\n",
       "      <td>Y</td>\n",
       "      <td>3</td>\n",
       "    </tr>\n",
       "    <tr>\n",
       "      <th>1</th>\n",
       "      <td>21</td>\n",
       "      <td>9600</td>\n",
       "      <td>OWN</td>\n",
       "      <td>5.000</td>\n",
       "      <td>EDUCATION</td>\n",
       "      <td>B</td>\n",
       "      <td>1000</td>\n",
       "      <td>11.140</td>\n",
       "      <td>0</td>\n",
       "      <td>0.100</td>\n",
       "      <td>N</td>\n",
       "      <td>2</td>\n",
       "    </tr>\n",
       "    <tr>\n",
       "      <th>2</th>\n",
       "      <td>25</td>\n",
       "      <td>9600</td>\n",
       "      <td>MORTGAGE</td>\n",
       "      <td>1.000</td>\n",
       "      <td>MEDICAL</td>\n",
       "      <td>C</td>\n",
       "      <td>5500</td>\n",
       "      <td>12.870</td>\n",
       "      <td>1</td>\n",
       "      <td>0.570</td>\n",
       "      <td>N</td>\n",
       "      <td>3</td>\n",
       "    </tr>\n",
       "    <tr>\n",
       "      <th>3</th>\n",
       "      <td>23</td>\n",
       "      <td>65500</td>\n",
       "      <td>RENT</td>\n",
       "      <td>4.000</td>\n",
       "      <td>MEDICAL</td>\n",
       "      <td>C</td>\n",
       "      <td>35000</td>\n",
       "      <td>15.230</td>\n",
       "      <td>1</td>\n",
       "      <td>0.530</td>\n",
       "      <td>N</td>\n",
       "      <td>2</td>\n",
       "    </tr>\n",
       "    <tr>\n",
       "      <th>4</th>\n",
       "      <td>24</td>\n",
       "      <td>54400</td>\n",
       "      <td>RENT</td>\n",
       "      <td>8.000</td>\n",
       "      <td>MEDICAL</td>\n",
       "      <td>C</td>\n",
       "      <td>35000</td>\n",
       "      <td>14.270</td>\n",
       "      <td>1</td>\n",
       "      <td>0.550</td>\n",
       "      <td>Y</td>\n",
       "      <td>4</td>\n",
       "    </tr>\n",
       "  </tbody>\n",
       "</table>\n",
       "</div>"
      ],
      "text/plain": [
       "   person_age  person_income person_home_ownership  person_emp_length  \\\n",
       "0          22          59000                  RENT            123.000   \n",
       "1          21           9600                   OWN              5.000   \n",
       "2          25           9600              MORTGAGE              1.000   \n",
       "3          23          65500                  RENT              4.000   \n",
       "4          24          54400                  RENT              8.000   \n",
       "\n",
       "  loan_intent loan_grade  loan_amnt  loan_int_rate  loan_status  \\\n",
       "0    PERSONAL          D      35000         16.020            1   \n",
       "1   EDUCATION          B       1000         11.140            0   \n",
       "2     MEDICAL          C       5500         12.870            1   \n",
       "3     MEDICAL          C      35000         15.230            1   \n",
       "4     MEDICAL          C      35000         14.270            1   \n",
       "\n",
       "   loan_percent_income cb_person_default_on_file  cb_person_cred_hist_length  \n",
       "0                0.590                         Y                           3  \n",
       "1                0.100                         N                           2  \n",
       "2                0.570                         N                           3  \n",
       "3                0.530                         N                           2  \n",
       "4                0.550                         Y                           4  "
      ]
     },
     "execution_count": 4,
     "metadata": {},
     "output_type": "execute_result"
    }
   ],
   "source": [
    "df.head()"
   ]
  },
  {
   "cell_type": "code",
   "execution_count": 5,
   "id": "e823dad2",
   "metadata": {},
   "outputs": [
    {
     "name": "stdout",
     "output_type": "stream",
     "text": [
      "<class 'pandas.core.frame.DataFrame'>\n",
      "RangeIndex: 32581 entries, 0 to 32580\n",
      "Data columns (total 12 columns):\n",
      " #   Column                      Non-Null Count  Dtype  \n",
      "---  ------                      --------------  -----  \n",
      " 0   person_age                  32581 non-null  int64  \n",
      " 1   person_income               32581 non-null  int64  \n",
      " 2   person_home_ownership       32581 non-null  object \n",
      " 3   person_emp_length           31686 non-null  float64\n",
      " 4   loan_intent                 32581 non-null  object \n",
      " 5   loan_grade                  32581 non-null  object \n",
      " 6   loan_amnt                   32581 non-null  int64  \n",
      " 7   loan_int_rate               29465 non-null  float64\n",
      " 8   loan_status                 32581 non-null  int64  \n",
      " 9   loan_percent_income         32581 non-null  float64\n",
      " 10  cb_person_default_on_file   32581 non-null  object \n",
      " 11  cb_person_cred_hist_length  32581 non-null  int64  \n",
      "dtypes: float64(3), int64(5), object(4)\n",
      "memory usage: 3.0+ MB\n"
     ]
    }
   ],
   "source": [
    "df.info()"
   ]
  },
  {
   "cell_type": "code",
   "execution_count": 6,
   "id": "0b185f51",
   "metadata": {},
   "outputs": [
    {
     "data": {
      "text/html": [
       "<div>\n",
       "<style scoped>\n",
       "    .dataframe tbody tr th:only-of-type {\n",
       "        vertical-align: middle;\n",
       "    }\n",
       "\n",
       "    .dataframe tbody tr th {\n",
       "        vertical-align: top;\n",
       "    }\n",
       "\n",
       "    .dataframe thead th {\n",
       "        text-align: right;\n",
       "    }\n",
       "</style>\n",
       "<table border=\"1\" class=\"dataframe\">\n",
       "  <thead>\n",
       "    <tr style=\"text-align: right;\">\n",
       "      <th></th>\n",
       "      <th>person_age</th>\n",
       "      <th>person_income</th>\n",
       "      <th>person_emp_length</th>\n",
       "      <th>loan_amnt</th>\n",
       "      <th>loan_int_rate</th>\n",
       "      <th>loan_status</th>\n",
       "      <th>loan_percent_income</th>\n",
       "      <th>cb_person_cred_hist_length</th>\n",
       "    </tr>\n",
       "  </thead>\n",
       "  <tbody>\n",
       "    <tr>\n",
       "      <th>count</th>\n",
       "      <td>32581.000</td>\n",
       "      <td>32581.000</td>\n",
       "      <td>31686.000</td>\n",
       "      <td>32581.000</td>\n",
       "      <td>29465.000</td>\n",
       "      <td>32581.000</td>\n",
       "      <td>32581.000</td>\n",
       "      <td>32581.000</td>\n",
       "    </tr>\n",
       "    <tr>\n",
       "      <th>mean</th>\n",
       "      <td>27.735</td>\n",
       "      <td>66074.848</td>\n",
       "      <td>4.790</td>\n",
       "      <td>9589.371</td>\n",
       "      <td>11.012</td>\n",
       "      <td>0.218</td>\n",
       "      <td>0.170</td>\n",
       "      <td>5.804</td>\n",
       "    </tr>\n",
       "    <tr>\n",
       "      <th>std</th>\n",
       "      <td>6.348</td>\n",
       "      <td>61983.119</td>\n",
       "      <td>4.143</td>\n",
       "      <td>6322.087</td>\n",
       "      <td>3.240</td>\n",
       "      <td>0.413</td>\n",
       "      <td>0.107</td>\n",
       "      <td>4.055</td>\n",
       "    </tr>\n",
       "    <tr>\n",
       "      <th>min</th>\n",
       "      <td>20.000</td>\n",
       "      <td>4000.000</td>\n",
       "      <td>0.000</td>\n",
       "      <td>500.000</td>\n",
       "      <td>5.420</td>\n",
       "      <td>0.000</td>\n",
       "      <td>0.000</td>\n",
       "      <td>2.000</td>\n",
       "    </tr>\n",
       "    <tr>\n",
       "      <th>25%</th>\n",
       "      <td>23.000</td>\n",
       "      <td>38500.000</td>\n",
       "      <td>2.000</td>\n",
       "      <td>5000.000</td>\n",
       "      <td>7.900</td>\n",
       "      <td>0.000</td>\n",
       "      <td>0.090</td>\n",
       "      <td>3.000</td>\n",
       "    </tr>\n",
       "    <tr>\n",
       "      <th>50%</th>\n",
       "      <td>26.000</td>\n",
       "      <td>55000.000</td>\n",
       "      <td>4.000</td>\n",
       "      <td>8000.000</td>\n",
       "      <td>10.990</td>\n",
       "      <td>0.000</td>\n",
       "      <td>0.150</td>\n",
       "      <td>4.000</td>\n",
       "    </tr>\n",
       "    <tr>\n",
       "      <th>75%</th>\n",
       "      <td>30.000</td>\n",
       "      <td>79200.000</td>\n",
       "      <td>7.000</td>\n",
       "      <td>12200.000</td>\n",
       "      <td>13.470</td>\n",
       "      <td>0.000</td>\n",
       "      <td>0.230</td>\n",
       "      <td>8.000</td>\n",
       "    </tr>\n",
       "    <tr>\n",
       "      <th>max</th>\n",
       "      <td>144.000</td>\n",
       "      <td>6000000.000</td>\n",
       "      <td>123.000</td>\n",
       "      <td>35000.000</td>\n",
       "      <td>23.220</td>\n",
       "      <td>1.000</td>\n",
       "      <td>0.830</td>\n",
       "      <td>30.000</td>\n",
       "    </tr>\n",
       "  </tbody>\n",
       "</table>\n",
       "</div>"
      ],
      "text/plain": [
       "       person_age  person_income  person_emp_length  loan_amnt  loan_int_rate  \\\n",
       "count   32581.000      32581.000          31686.000  32581.000      29465.000   \n",
       "mean       27.735      66074.848              4.790   9589.371         11.012   \n",
       "std         6.348      61983.119              4.143   6322.087          3.240   \n",
       "min        20.000       4000.000              0.000    500.000          5.420   \n",
       "25%        23.000      38500.000              2.000   5000.000          7.900   \n",
       "50%        26.000      55000.000              4.000   8000.000         10.990   \n",
       "75%        30.000      79200.000              7.000  12200.000         13.470   \n",
       "max       144.000    6000000.000            123.000  35000.000         23.220   \n",
       "\n",
       "       loan_status  loan_percent_income  cb_person_cred_hist_length  \n",
       "count    32581.000            32581.000                   32581.000  \n",
       "mean         0.218                0.170                       5.804  \n",
       "std          0.413                0.107                       4.055  \n",
       "min          0.000                0.000                       2.000  \n",
       "25%          0.000                0.090                       3.000  \n",
       "50%          0.000                0.150                       4.000  \n",
       "75%          0.000                0.230                       8.000  \n",
       "max          1.000                0.830                      30.000  "
      ]
     },
     "execution_count": 6,
     "metadata": {},
     "output_type": "execute_result"
    }
   ],
   "source": [
    "df.describe()"
   ]
  },
  {
   "cell_type": "code",
   "execution_count": 7,
   "id": "320edfa2",
   "metadata": {},
   "outputs": [],
   "source": [
    "df = df[df['person_age']<=100]\n",
    "df = df[df['person_emp_length']<=60]\n",
    "df = df[df['person_income']<=4e6]\n",
    "#Dropping Extreme Outliers "
   ]
  },
  {
   "cell_type": "code",
   "execution_count": 8,
   "id": "76f046ff",
   "metadata": {},
   "outputs": [
    {
     "data": {
      "text/html": [
       "<div>\n",
       "<style scoped>\n",
       "    .dataframe tbody tr th:only-of-type {\n",
       "        vertical-align: middle;\n",
       "    }\n",
       "\n",
       "    .dataframe tbody tr th {\n",
       "        vertical-align: top;\n",
       "    }\n",
       "\n",
       "    .dataframe thead th {\n",
       "        text-align: right;\n",
       "    }\n",
       "</style>\n",
       "<table border=\"1\" class=\"dataframe\">\n",
       "  <thead>\n",
       "    <tr style=\"text-align: right;\">\n",
       "      <th></th>\n",
       "      <th>person_age</th>\n",
       "      <th>person_income</th>\n",
       "      <th>person_emp_length</th>\n",
       "      <th>loan_amnt</th>\n",
       "      <th>loan_int_rate</th>\n",
       "      <th>loan_status</th>\n",
       "      <th>loan_percent_income</th>\n",
       "      <th>cb_person_cred_hist_length</th>\n",
       "    </tr>\n",
       "  </thead>\n",
       "  <tbody>\n",
       "    <tr>\n",
       "      <th>count</th>\n",
       "      <td>31679.000</td>\n",
       "      <td>31679.000</td>\n",
       "      <td>31679.000</td>\n",
       "      <td>31679.000</td>\n",
       "      <td>28632.000</td>\n",
       "      <td>31679.000</td>\n",
       "      <td>31679.000</td>\n",
       "      <td>31679.000</td>\n",
       "    </tr>\n",
       "    <tr>\n",
       "      <th>mean</th>\n",
       "      <td>27.731</td>\n",
       "      <td>66490.099</td>\n",
       "      <td>4.782</td>\n",
       "      <td>9659.962</td>\n",
       "      <td>11.040</td>\n",
       "      <td>0.215</td>\n",
       "      <td>0.170</td>\n",
       "      <td>5.809</td>\n",
       "    </tr>\n",
       "    <tr>\n",
       "      <th>std</th>\n",
       "      <td>6.213</td>\n",
       "      <td>52768.793</td>\n",
       "      <td>4.035</td>\n",
       "      <td>6334.361</td>\n",
       "      <td>3.229</td>\n",
       "      <td>0.411</td>\n",
       "      <td>0.106</td>\n",
       "      <td>4.060</td>\n",
       "    </tr>\n",
       "    <tr>\n",
       "      <th>min</th>\n",
       "      <td>20.000</td>\n",
       "      <td>4000.000</td>\n",
       "      <td>0.000</td>\n",
       "      <td>500.000</td>\n",
       "      <td>5.420</td>\n",
       "      <td>0.000</td>\n",
       "      <td>0.000</td>\n",
       "      <td>2.000</td>\n",
       "    </tr>\n",
       "    <tr>\n",
       "      <th>25%</th>\n",
       "      <td>23.000</td>\n",
       "      <td>39366.000</td>\n",
       "      <td>2.000</td>\n",
       "      <td>5000.000</td>\n",
       "      <td>7.900</td>\n",
       "      <td>0.000</td>\n",
       "      <td>0.090</td>\n",
       "      <td>3.000</td>\n",
       "    </tr>\n",
       "    <tr>\n",
       "      <th>50%</th>\n",
       "      <td>26.000</td>\n",
       "      <td>56000.000</td>\n",
       "      <td>4.000</td>\n",
       "      <td>8000.000</td>\n",
       "      <td>10.990</td>\n",
       "      <td>0.000</td>\n",
       "      <td>0.150</td>\n",
       "      <td>4.000</td>\n",
       "    </tr>\n",
       "    <tr>\n",
       "      <th>75%</th>\n",
       "      <td>30.000</td>\n",
       "      <td>80000.000</td>\n",
       "      <td>7.000</td>\n",
       "      <td>12500.000</td>\n",
       "      <td>13.480</td>\n",
       "      <td>0.000</td>\n",
       "      <td>0.230</td>\n",
       "      <td>8.000</td>\n",
       "    </tr>\n",
       "    <tr>\n",
       "      <th>max</th>\n",
       "      <td>94.000</td>\n",
       "      <td>2039784.000</td>\n",
       "      <td>41.000</td>\n",
       "      <td>35000.000</td>\n",
       "      <td>23.220</td>\n",
       "      <td>1.000</td>\n",
       "      <td>0.830</td>\n",
       "      <td>30.000</td>\n",
       "    </tr>\n",
       "  </tbody>\n",
       "</table>\n",
       "</div>"
      ],
      "text/plain": [
       "       person_age  person_income  person_emp_length  loan_amnt  loan_int_rate  \\\n",
       "count   31679.000      31679.000          31679.000  31679.000      28632.000   \n",
       "mean       27.731      66490.099              4.782   9659.962         11.040   \n",
       "std         6.213      52768.793              4.035   6334.361          3.229   \n",
       "min        20.000       4000.000              0.000    500.000          5.420   \n",
       "25%        23.000      39366.000              2.000   5000.000          7.900   \n",
       "50%        26.000      56000.000              4.000   8000.000         10.990   \n",
       "75%        30.000      80000.000              7.000  12500.000         13.480   \n",
       "max        94.000    2039784.000             41.000  35000.000         23.220   \n",
       "\n",
       "       loan_status  loan_percent_income  cb_person_cred_hist_length  \n",
       "count    31679.000            31679.000                   31679.000  \n",
       "mean         0.215                0.170                       5.809  \n",
       "std          0.411                0.106                       4.060  \n",
       "min          0.000                0.000                       2.000  \n",
       "25%          0.000                0.090                       3.000  \n",
       "50%          0.000                0.150                       4.000  \n",
       "75%          0.000                0.230                       8.000  \n",
       "max          1.000                0.830                      30.000  "
      ]
     },
     "execution_count": 8,
     "metadata": {},
     "output_type": "execute_result"
    }
   ],
   "source": [
    "df.describe()"
   ]
  },
  {
   "cell_type": "code",
   "execution_count": 9,
   "id": "9039080d",
   "metadata": {},
   "outputs": [
    {
     "name": "stdout",
     "output_type": "stream",
     "text": [
      "Total Targets\n",
      "31679\n",
      "\n",
      "\n",
      "Total Defaults\n",
      "24854\n",
      "\n",
      "\n",
      "Total Payments\n",
      "6825\n"
     ]
    }
   ],
   "source": [
    "print('Total Targets')\n",
    "print(df['loan_status'].count())\n",
    "print('\\n')\n",
    "\n",
    "print('Total Defaults')\n",
    "print(df['loan_status'].count()-df['loan_status'].sum())\n",
    "\n",
    "print('\\n')\n",
    "print('Total Payments')\n",
    "print(df['loan_status'].sum())"
   ]
  },
  {
   "cell_type": "code",
   "execution_count": 10,
   "id": "01454143",
   "metadata": {},
   "outputs": [
    {
     "data": {
      "image/png": "[encoded data removed]",
      "text/plain": [
       "<Figure size 432x288 with 1 Axes>"
      ]
     },
     "metadata": {},
     "output_type": "display_data"
    }
   ],
   "source": [
    "sns.countplot(x='loan_status',hue='person_home_ownership',data=df)\n",
    "plt.savefig('loan_status_home.png')"
   ]
  },
  {
   "cell_type": "code",
   "execution_count": 11,
   "id": "e2a3a2b2",
   "metadata": {},
   "outputs": [
    {
     "data": {
      "image/png": "[encoded data removed]",
      "text/plain": [
       "<Figure size 432x288 with 1 Axes>"
      ]
     },
     "metadata": {},
     "output_type": "display_data"
    }
   ],
   "source": [
    "sns.countplot(x='loan_status',hue='loan_intent',data=df)\n",
    "plt.savefig('loan_status_loanintent.png')"
   ]
  },
  {
   "cell_type": "code",
   "execution_count": 12,
   "id": "352d93a8",
   "metadata": {},
   "outputs": [
    {
     "data": {
      "image/png": "[encoded data removed]",
      "text/plain": [
       "<Figure size 1008x504 with 1 Axes>"
      ]
     },
     "metadata": {},
     "output_type": "display_data"
    }
   ],
   "source": [
    "sns.displot(df['person_age'],kde=False,bins=25,height=7,aspect=2)\n",
    "plt.savefig('agedist.png')"
   ]
  },
  {
   "cell_type": "markdown",
   "id": "cfc6c226",
   "metadata": {},
   "source": [
    "## Dealing with Null Values"
   ]
  },
  {
   "cell_type": "code",
   "execution_count": 13,
   "id": "56c07225",
   "metadata": {},
   "outputs": [
    {
     "data": {
      "text/plain": [
       "<AxesSubplot:xlabel='loan_int_rate', ylabel='Count'>"
      ]
     },
     "execution_count": 13,
     "metadata": {},
     "output_type": "execute_result"
    },
    {
     "data": {
      "image/png": "[encoded data removed]",
      "text/plain": [
       "<Figure size 432x288 with 1 Axes>"
      ]
     },
     "metadata": {},
     "output_type": "display_data"
    }
   ],
   "source": [
    "sns.histplot(data=df, x= 'loan_int_rate', bins = 10)"
   ]
  },
  {
   "cell_type": "code",
   "execution_count": 14,
   "id": "c74c28bd",
   "metadata": {},
   "outputs": [
    {
     "data": {
      "image/png": "[encoded data removed]",
      "text/plain": [
       "<Figure size 432x288 with 1 Axes>"
      ]
     },
     "metadata": {},
     "output_type": "display_data"
    }
   ],
   "source": [
    "sns.heatmap(df.isnull(),yticklabels=False, cbar=False,cmap='GnBu_r')\n",
    "plt.savefig('nulls1.png')\n",
    "#LOTS of NAs in cabin but age has a reasonable amount missing so we can imputate the data"
   ]
  },
  {
   "cell_type": "code",
   "execution_count": 15,
   "id": "7b5878c9",
   "metadata": {},
   "outputs": [
    {
     "data": {
      "text/plain": [
       "person_age                       0\n",
       "person_income                    0\n",
       "person_home_ownership            0\n",
       "person_emp_length                0\n",
       "loan_intent                      0\n",
       "loan_grade                       0\n",
       "loan_amnt                        0\n",
       "loan_int_rate                 3047\n",
       "loan_status                      0\n",
       "loan_percent_income              0\n",
       "cb_person_default_on_file        0\n",
       "cb_person_cred_hist_length       0\n",
       "dtype: int64"
      ]
     },
     "execution_count": 15,
     "metadata": {},
     "output_type": "execute_result"
    }
   ],
   "source": [
    "df.isnull().sum()"
   ]
  },
  {
   "cell_type": "code",
   "execution_count": 16,
   "id": "bfd074eb",
   "metadata": {
    "scrolled": true
   },
   "outputs": [
    {
     "name": "stdout",
     "output_type": "stream",
     "text": [
      "% Employment Length Missing\n",
      "3 %\n",
      "\n",
      "\n",
      "% Loan Interest Rate Missing\n",
      "10 %\n"
     ]
    }
   ],
   "source": [
    "print(\"% Employment Length Missing\")\n",
    "print(round((895/32581)*100.00),'%')\n",
    "print('\\n')\n",
    "print(\"% Loan Interest Rate Missing\")\n",
    "print(round((3116/32581)*100),'%')"
   ]
  },
  {
   "cell_type": "code",
   "execution_count": 17,
   "id": "e693ba08",
   "metadata": {},
   "outputs": [
    {
     "data": {
      "text/plain": [
       "person_age                    0\n",
       "person_income                 0\n",
       "person_home_ownership         0\n",
       "person_emp_length             0\n",
       "loan_intent                   0\n",
       "loan_grade                    0\n",
       "loan_amnt                     0\n",
       "loan_int_rate                 0\n",
       "loan_status                   0\n",
       "loan_percent_income           0\n",
       "cb_person_default_on_file     0\n",
       "cb_person_cred_hist_length    0\n",
       "dtype: int64"
      ]
     },
     "execution_count": 17,
     "metadata": {},
     "output_type": "execute_result"
    }
   ],
   "source": [
    "df[\"person_emp_length\"].fillna(4.790, inplace = True)\n",
    "df[\"loan_int_rate\"].fillna(11.012, inplace = True)\n",
    "\n",
    "df.isnull().sum()\n",
    "#Impute null values with mean of that column in the dataset"
   ]
  },
  {
   "cell_type": "markdown",
   "id": "97c25f68",
   "metadata": {},
   "source": [
    "## Creating Dummy Variables"
   ]
  },
  {
   "cell_type": "code",
   "execution_count": 18,
   "id": "92d4ea25",
   "metadata": {},
   "outputs": [
    {
     "data": {
      "text/html": [
       "<div>\n",
       "<style scoped>\n",
       "    .dataframe tbody tr th:only-of-type {\n",
       "        vertical-align: middle;\n",
       "    }\n",
       "\n",
       "    .dataframe tbody tr th {\n",
       "        vertical-align: top;\n",
       "    }\n",
       "\n",
       "    .dataframe thead th {\n",
       "        text-align: right;\n",
       "    }\n",
       "</style>\n",
       "<table border=\"1\" class=\"dataframe\">\n",
       "  <thead>\n",
       "    <tr style=\"text-align: right;\">\n",
       "      <th></th>\n",
       "      <th>person_age</th>\n",
       "      <th>person_income</th>\n",
       "      <th>person_home_ownership</th>\n",
       "      <th>person_emp_length</th>\n",
       "      <th>loan_intent</th>\n",
       "      <th>loan_grade</th>\n",
       "      <th>loan_amnt</th>\n",
       "      <th>loan_int_rate</th>\n",
       "      <th>loan_status</th>\n",
       "      <th>loan_percent_income</th>\n",
       "      <th>cb_person_default_on_file</th>\n",
       "      <th>cb_person_cred_hist_length</th>\n",
       "    </tr>\n",
       "  </thead>\n",
       "  <tbody>\n",
       "    <tr>\n",
       "      <th>1</th>\n",
       "      <td>21</td>\n",
       "      <td>9600</td>\n",
       "      <td>OWN</td>\n",
       "      <td>5.000</td>\n",
       "      <td>EDUCATION</td>\n",
       "      <td>B</td>\n",
       "      <td>1000</td>\n",
       "      <td>11.140</td>\n",
       "      <td>0</td>\n",
       "      <td>0.100</td>\n",
       "      <td>N</td>\n",
       "      <td>2</td>\n",
       "    </tr>\n",
       "    <tr>\n",
       "      <th>2</th>\n",
       "      <td>25</td>\n",
       "      <td>9600</td>\n",
       "      <td>MORTGAGE</td>\n",
       "      <td>1.000</td>\n",
       "      <td>MEDICAL</td>\n",
       "      <td>C</td>\n",
       "      <td>5500</td>\n",
       "      <td>12.870</td>\n",
       "      <td>1</td>\n",
       "      <td>0.570</td>\n",
       "      <td>N</td>\n",
       "      <td>3</td>\n",
       "    </tr>\n",
       "    <tr>\n",
       "      <th>3</th>\n",
       "      <td>23</td>\n",
       "      <td>65500</td>\n",
       "      <td>RENT</td>\n",
       "      <td>4.000</td>\n",
       "      <td>MEDICAL</td>\n",
       "      <td>C</td>\n",
       "      <td>35000</td>\n",
       "      <td>15.230</td>\n",
       "      <td>1</td>\n",
       "      <td>0.530</td>\n",
       "      <td>N</td>\n",
       "      <td>2</td>\n",
       "    </tr>\n",
       "    <tr>\n",
       "      <th>4</th>\n",
       "      <td>24</td>\n",
       "      <td>54400</td>\n",
       "      <td>RENT</td>\n",
       "      <td>8.000</td>\n",
       "      <td>MEDICAL</td>\n",
       "      <td>C</td>\n",
       "      <td>35000</td>\n",
       "      <td>14.270</td>\n",
       "      <td>1</td>\n",
       "      <td>0.550</td>\n",
       "      <td>Y</td>\n",
       "      <td>4</td>\n",
       "    </tr>\n",
       "    <tr>\n",
       "      <th>5</th>\n",
       "      <td>21</td>\n",
       "      <td>9900</td>\n",
       "      <td>OWN</td>\n",
       "      <td>2.000</td>\n",
       "      <td>VENTURE</td>\n",
       "      <td>A</td>\n",
       "      <td>2500</td>\n",
       "      <td>7.140</td>\n",
       "      <td>1</td>\n",
       "      <td>0.250</td>\n",
       "      <td>N</td>\n",
       "      <td>2</td>\n",
       "    </tr>\n",
       "  </tbody>\n",
       "</table>\n",
       "</div>"
      ],
      "text/plain": [
       "   person_age  person_income person_home_ownership  person_emp_length  \\\n",
       "1          21           9600                   OWN              5.000   \n",
       "2          25           9600              MORTGAGE              1.000   \n",
       "3          23          65500                  RENT              4.000   \n",
       "4          24          54400                  RENT              8.000   \n",
       "5          21           9900                   OWN              2.000   \n",
       "\n",
       "  loan_intent loan_grade  loan_amnt  loan_int_rate  loan_status  \\\n",
       "1   EDUCATION          B       1000         11.140            0   \n",
       "2     MEDICAL          C       5500         12.870            1   \n",
       "3     MEDICAL          C      35000         15.230            1   \n",
       "4     MEDICAL          C      35000         14.270            1   \n",
       "5     VENTURE          A       2500          7.140            1   \n",
       "\n",
       "   loan_percent_income cb_person_default_on_file  cb_person_cred_hist_length  \n",
       "1                0.100                         N                           2  \n",
       "2                0.570                         N                           3  \n",
       "3                0.530                         N                           2  \n",
       "4                0.550                         Y                           4  \n",
       "5                0.250                         N                           2  "
      ]
     },
     "execution_count": 18,
     "metadata": {},
     "output_type": "execute_result"
    }
   ],
   "source": [
    "df.head()"
   ]
  },
  {
   "cell_type": "code",
   "execution_count": 19,
   "id": "4cbb7628",
   "metadata": {},
   "outputs": [],
   "source": [
    "home_ownership= pd.get_dummies(df['person_home_ownership'],drop_first=True)\n",
    "\n",
    "\n",
    "\n",
    "\n",
    "\n",
    "new_loan_intent= pd.get_dummies(df['loan_intent'],drop_first=True)\n",
    "default_onfile= pd.get_dummies(df['cb_person_default_on_file'],drop_first=True)\n",
    "loangrade= pd.get_dummies(df['loan_grade'],drop_first=True)"
   ]
  },
  {
   "cell_type": "code",
   "execution_count": 20,
   "id": "5c8ed56c",
   "metadata": {},
   "outputs": [
    {
     "data": {
      "text/html": [
       "<div>\n",
       "<style scoped>\n",
       "    .dataframe tbody tr th:only-of-type {\n",
       "        vertical-align: middle;\n",
       "    }\n",
       "\n",
       "    .dataframe tbody tr th {\n",
       "        vertical-align: top;\n",
       "    }\n",
       "\n",
       "    .dataframe thead th {\n",
       "        text-align: right;\n",
       "    }\n",
       "</style>\n",
       "<table border=\"1\" class=\"dataframe\">\n",
       "  <thead>\n",
       "    <tr style=\"text-align: right;\">\n",
       "      <th></th>\n",
       "      <th>OTHER</th>\n",
       "      <th>OWN</th>\n",
       "      <th>RENT</th>\n",
       "    </tr>\n",
       "  </thead>\n",
       "  <tbody>\n",
       "    <tr>\n",
       "      <th>1</th>\n",
       "      <td>0</td>\n",
       "      <td>1</td>\n",
       "      <td>0</td>\n",
       "    </tr>\n",
       "    <tr>\n",
       "      <th>2</th>\n",
       "      <td>0</td>\n",
       "      <td>0</td>\n",
       "      <td>0</td>\n",
       "    </tr>\n",
       "    <tr>\n",
       "      <th>3</th>\n",
       "      <td>0</td>\n",
       "      <td>0</td>\n",
       "      <td>1</td>\n",
       "    </tr>\n",
       "    <tr>\n",
       "      <th>4</th>\n",
       "      <td>0</td>\n",
       "      <td>0</td>\n",
       "      <td>1</td>\n",
       "    </tr>\n",
       "    <tr>\n",
       "      <th>5</th>\n",
       "      <td>0</td>\n",
       "      <td>1</td>\n",
       "      <td>0</td>\n",
       "    </tr>\n",
       "  </tbody>\n",
       "</table>\n",
       "</div>"
      ],
      "text/plain": [
       "   OTHER  OWN  RENT\n",
       "1      0    1     0\n",
       "2      0    0     0\n",
       "3      0    0     1\n",
       "4      0    0     1\n",
       "5      0    1     0"
      ]
     },
     "execution_count": 20,
     "metadata": {},
     "output_type": "execute_result"
    }
   ],
   "source": [
    "home_ownership.head()"
   ]
  },
  {
   "cell_type": "code",
   "execution_count": 21,
   "id": "6ae6a964",
   "metadata": {
    "scrolled": true
   },
   "outputs": [
    {
     "data": {
      "text/html": [
       "<div>\n",
       "<style scoped>\n",
       "    .dataframe tbody tr th:only-of-type {\n",
       "        vertical-align: middle;\n",
       "    }\n",
       "\n",
       "    .dataframe tbody tr th {\n",
       "        vertical-align: top;\n",
       "    }\n",
       "\n",
       "    .dataframe thead th {\n",
       "        text-align: right;\n",
       "    }\n",
       "</style>\n",
       "<table border=\"1\" class=\"dataframe\">\n",
       "  <thead>\n",
       "    <tr style=\"text-align: right;\">\n",
       "      <th></th>\n",
       "      <th>EDUCATION</th>\n",
       "      <th>HOMEIMPROVEMENT</th>\n",
       "      <th>MEDICAL</th>\n",
       "      <th>PERSONAL</th>\n",
       "      <th>VENTURE</th>\n",
       "    </tr>\n",
       "  </thead>\n",
       "  <tbody>\n",
       "    <tr>\n",
       "      <th>1</th>\n",
       "      <td>1</td>\n",
       "      <td>0</td>\n",
       "      <td>0</td>\n",
       "      <td>0</td>\n",
       "      <td>0</td>\n",
       "    </tr>\n",
       "    <tr>\n",
       "      <th>2</th>\n",
       "      <td>0</td>\n",
       "      <td>0</td>\n",
       "      <td>1</td>\n",
       "      <td>0</td>\n",
       "      <td>0</td>\n",
       "    </tr>\n",
       "    <tr>\n",
       "      <th>3</th>\n",
       "      <td>0</td>\n",
       "      <td>0</td>\n",
       "      <td>1</td>\n",
       "      <td>0</td>\n",
       "      <td>0</td>\n",
       "    </tr>\n",
       "    <tr>\n",
       "      <th>4</th>\n",
       "      <td>0</td>\n",
       "      <td>0</td>\n",
       "      <td>1</td>\n",
       "      <td>0</td>\n",
       "      <td>0</td>\n",
       "    </tr>\n",
       "    <tr>\n",
       "      <th>5</th>\n",
       "      <td>0</td>\n",
       "      <td>0</td>\n",
       "      <td>0</td>\n",
       "      <td>0</td>\n",
       "      <td>1</td>\n",
       "    </tr>\n",
       "  </tbody>\n",
       "</table>\n",
       "</div>"
      ],
      "text/plain": [
       "   EDUCATION  HOMEIMPROVEMENT  MEDICAL  PERSONAL  VENTURE\n",
       "1          1                0        0         0        0\n",
       "2          0                0        1         0        0\n",
       "3          0                0        1         0        0\n",
       "4          0                0        1         0        0\n",
       "5          0                0        0         0        1"
      ]
     },
     "execution_count": 21,
     "metadata": {},
     "output_type": "execute_result"
    }
   ],
   "source": [
    "new_loan_intent.head()"
   ]
  },
  {
   "cell_type": "code",
   "execution_count": 22,
   "id": "699d811d",
   "metadata": {},
   "outputs": [
    {
     "data": {
      "text/html": [
       "<div>\n",
       "<style scoped>\n",
       "    .dataframe tbody tr th:only-of-type {\n",
       "        vertical-align: middle;\n",
       "    }\n",
       "\n",
       "    .dataframe tbody tr th {\n",
       "        vertical-align: top;\n",
       "    }\n",
       "\n",
       "    .dataframe thead th {\n",
       "        text-align: right;\n",
       "    }\n",
       "</style>\n",
       "<table border=\"1\" class=\"dataframe\">\n",
       "  <thead>\n",
       "    <tr style=\"text-align: right;\">\n",
       "      <th></th>\n",
       "      <th>person_age</th>\n",
       "      <th>person_income</th>\n",
       "      <th>person_home_ownership</th>\n",
       "      <th>person_emp_length</th>\n",
       "      <th>loan_intent</th>\n",
       "      <th>loan_grade</th>\n",
       "      <th>loan_amnt</th>\n",
       "      <th>loan_int_rate</th>\n",
       "      <th>loan_status</th>\n",
       "      <th>loan_percent_income</th>\n",
       "      <th>...</th>\n",
       "      <th>MEDICAL</th>\n",
       "      <th>PERSONAL</th>\n",
       "      <th>VENTURE</th>\n",
       "      <th>Y</th>\n",
       "      <th>B</th>\n",
       "      <th>C</th>\n",
       "      <th>D</th>\n",
       "      <th>E</th>\n",
       "      <th>F</th>\n",
       "      <th>G</th>\n",
       "    </tr>\n",
       "  </thead>\n",
       "  <tbody>\n",
       "    <tr>\n",
       "      <th>1</th>\n",
       "      <td>21</td>\n",
       "      <td>9600</td>\n",
       "      <td>OWN</td>\n",
       "      <td>5.000</td>\n",
       "      <td>EDUCATION</td>\n",
       "      <td>B</td>\n",
       "      <td>1000</td>\n",
       "      <td>11.140</td>\n",
       "      <td>0</td>\n",
       "      <td>0.100</td>\n",
       "      <td>...</td>\n",
       "      <td>0</td>\n",
       "      <td>0</td>\n",
       "      <td>0</td>\n",
       "      <td>0</td>\n",
       "      <td>1</td>\n",
       "      <td>0</td>\n",
       "      <td>0</td>\n",
       "      <td>0</td>\n",
       "      <td>0</td>\n",
       "      <td>0</td>\n",
       "    </tr>\n",
       "    <tr>\n",
       "      <th>2</th>\n",
       "      <td>25</td>\n",
       "      <td>9600</td>\n",
       "      <td>MORTGAGE</td>\n",
       "      <td>1.000</td>\n",
       "      <td>MEDICAL</td>\n",
       "      <td>C</td>\n",
       "      <td>5500</td>\n",
       "      <td>12.870</td>\n",
       "      <td>1</td>\n",
       "      <td>0.570</td>\n",
       "      <td>...</td>\n",
       "      <td>1</td>\n",
       "      <td>0</td>\n",
       "      <td>0</td>\n",
       "      <td>0</td>\n",
       "      <td>0</td>\n",
       "      <td>1</td>\n",
       "      <td>0</td>\n",
       "      <td>0</td>\n",
       "      <td>0</td>\n",
       "      <td>0</td>\n",
       "    </tr>\n",
       "  </tbody>\n",
       "</table>\n",
       "<p>2 rows × 27 columns</p>\n",
       "</div>"
      ],
      "text/plain": [
       "   person_age  person_income person_home_ownership  person_emp_length  \\\n",
       "1          21           9600                   OWN              5.000   \n",
       "2          25           9600              MORTGAGE              1.000   \n",
       "\n",
       "  loan_intent loan_grade  loan_amnt  loan_int_rate  loan_status  \\\n",
       "1   EDUCATION          B       1000         11.140            0   \n",
       "2     MEDICAL          C       5500         12.870            1   \n",
       "\n",
       "   loan_percent_income  ... MEDICAL  PERSONAL  VENTURE  Y  B  C  D  E  F  G  \n",
       "1                0.100  ...       0         0        0  0  1  0  0  0  0  0  \n",
       "2                0.570  ...       1         0        0  0  0  1  0  0  0  0  \n",
       "\n",
       "[2 rows x 27 columns]"
      ]
     },
     "execution_count": 22,
     "metadata": {},
     "output_type": "execute_result"
    }
   ],
   "source": [
    "df = pd.concat([df,home_ownership,new_loan_intent,default_onfile,loangrade],axis=1)\n",
    "df.head(2)"
   ]
  },
  {
   "cell_type": "code",
   "execution_count": 23,
   "id": "4d7f00c8",
   "metadata": {},
   "outputs": [],
   "source": [
    "df.drop(['person_home_ownership','loan_intent','loan_grade','cb_person_default_on_file'],axis=1,inplace=True)\n",
    "#drop old columns"
   ]
  },
  {
   "cell_type": "code",
   "execution_count": 24,
   "id": "78a74ddf",
   "metadata": {},
   "outputs": [
    {
     "data": {
      "text/html": [
       "<div>\n",
       "<style scoped>\n",
       "    .dataframe tbody tr th:only-of-type {\n",
       "        vertical-align: middle;\n",
       "    }\n",
       "\n",
       "    .dataframe tbody tr th {\n",
       "        vertical-align: top;\n",
       "    }\n",
       "\n",
       "    .dataframe thead th {\n",
       "        text-align: right;\n",
       "    }\n",
       "</style>\n",
       "<table border=\"1\" class=\"dataframe\">\n",
       "  <thead>\n",
       "    <tr style=\"text-align: right;\">\n",
       "      <th></th>\n",
       "      <th>person_age</th>\n",
       "      <th>person_income</th>\n",
       "      <th>person_emp_length</th>\n",
       "      <th>loan_amnt</th>\n",
       "      <th>loan_int_rate</th>\n",
       "      <th>loan_status</th>\n",
       "      <th>loan_percent_income</th>\n",
       "      <th>cb_person_cred_hist_length</th>\n",
       "      <th>OTHER</th>\n",
       "      <th>OWN</th>\n",
       "      <th>...</th>\n",
       "      <th>MEDICAL</th>\n",
       "      <th>PERSONAL</th>\n",
       "      <th>VENTURE</th>\n",
       "      <th>Y</th>\n",
       "      <th>B</th>\n",
       "      <th>C</th>\n",
       "      <th>D</th>\n",
       "      <th>E</th>\n",
       "      <th>F</th>\n",
       "      <th>G</th>\n",
       "    </tr>\n",
       "  </thead>\n",
       "  <tbody>\n",
       "    <tr>\n",
       "      <th>1</th>\n",
       "      <td>21</td>\n",
       "      <td>9600</td>\n",
       "      <td>5.000</td>\n",
       "      <td>1000</td>\n",
       "      <td>11.140</td>\n",
       "      <td>0</td>\n",
       "      <td>0.100</td>\n",
       "      <td>2</td>\n",
       "      <td>0</td>\n",
       "      <td>1</td>\n",
       "      <td>...</td>\n",
       "      <td>0</td>\n",
       "      <td>0</td>\n",
       "      <td>0</td>\n",
       "      <td>0</td>\n",
       "      <td>1</td>\n",
       "      <td>0</td>\n",
       "      <td>0</td>\n",
       "      <td>0</td>\n",
       "      <td>0</td>\n",
       "      <td>0</td>\n",
       "    </tr>\n",
       "    <tr>\n",
       "      <th>2</th>\n",
       "      <td>25</td>\n",
       "      <td>9600</td>\n",
       "      <td>1.000</td>\n",
       "      <td>5500</td>\n",
       "      <td>12.870</td>\n",
       "      <td>1</td>\n",
       "      <td>0.570</td>\n",
       "      <td>3</td>\n",
       "      <td>0</td>\n",
       "      <td>0</td>\n",
       "      <td>...</td>\n",
       "      <td>1</td>\n",
       "      <td>0</td>\n",
       "      <td>0</td>\n",
       "      <td>0</td>\n",
       "      <td>0</td>\n",
       "      <td>1</td>\n",
       "      <td>0</td>\n",
       "      <td>0</td>\n",
       "      <td>0</td>\n",
       "      <td>0</td>\n",
       "    </tr>\n",
       "    <tr>\n",
       "      <th>3</th>\n",
       "      <td>23</td>\n",
       "      <td>65500</td>\n",
       "      <td>4.000</td>\n",
       "      <td>35000</td>\n",
       "      <td>15.230</td>\n",
       "      <td>1</td>\n",
       "      <td>0.530</td>\n",
       "      <td>2</td>\n",
       "      <td>0</td>\n",
       "      <td>0</td>\n",
       "      <td>...</td>\n",
       "      <td>1</td>\n",
       "      <td>0</td>\n",
       "      <td>0</td>\n",
       "      <td>0</td>\n",
       "      <td>0</td>\n",
       "      <td>1</td>\n",
       "      <td>0</td>\n",
       "      <td>0</td>\n",
       "      <td>0</td>\n",
       "      <td>0</td>\n",
       "    </tr>\n",
       "    <tr>\n",
       "      <th>4</th>\n",
       "      <td>24</td>\n",
       "      <td>54400</td>\n",
       "      <td>8.000</td>\n",
       "      <td>35000</td>\n",
       "      <td>14.270</td>\n",
       "      <td>1</td>\n",
       "      <td>0.550</td>\n",
       "      <td>4</td>\n",
       "      <td>0</td>\n",
       "      <td>0</td>\n",
       "      <td>...</td>\n",
       "      <td>1</td>\n",
       "      <td>0</td>\n",
       "      <td>0</td>\n",
       "      <td>1</td>\n",
       "      <td>0</td>\n",
       "      <td>1</td>\n",
       "      <td>0</td>\n",
       "      <td>0</td>\n",
       "      <td>0</td>\n",
       "      <td>0</td>\n",
       "    </tr>\n",
       "    <tr>\n",
       "      <th>5</th>\n",
       "      <td>21</td>\n",
       "      <td>9900</td>\n",
       "      <td>2.000</td>\n",
       "      <td>2500</td>\n",
       "      <td>7.140</td>\n",
       "      <td>1</td>\n",
       "      <td>0.250</td>\n",
       "      <td>2</td>\n",
       "      <td>0</td>\n",
       "      <td>1</td>\n",
       "      <td>...</td>\n",
       "      <td>0</td>\n",
       "      <td>0</td>\n",
       "      <td>1</td>\n",
       "      <td>0</td>\n",
       "      <td>0</td>\n",
       "      <td>0</td>\n",
       "      <td>0</td>\n",
       "      <td>0</td>\n",
       "      <td>0</td>\n",
       "      <td>0</td>\n",
       "    </tr>\n",
       "  </tbody>\n",
       "</table>\n",
       "<p>5 rows × 23 columns</p>\n",
       "</div>"
      ],
      "text/plain": [
       "   person_age  person_income  person_emp_length  loan_amnt  loan_int_rate  \\\n",
       "1          21           9600              5.000       1000         11.140   \n",
       "2          25           9600              1.000       5500         12.870   \n",
       "3          23          65500              4.000      35000         15.230   \n",
       "4          24          54400              8.000      35000         14.270   \n",
       "5          21           9900              2.000       2500          7.140   \n",
       "\n",
       "   loan_status  loan_percent_income  cb_person_cred_hist_length  OTHER  OWN  \\\n",
       "1            0                0.100                           2      0    1   \n",
       "2            1                0.570                           3      0    0   \n",
       "3            1                0.530                           2      0    0   \n",
       "4            1                0.550                           4      0    0   \n",
       "5            1                0.250                           2      0    1   \n",
       "\n",
       "   ...  MEDICAL  PERSONAL  VENTURE  Y  B  C  D  E  F  G  \n",
       "1  ...        0         0        0  0  1  0  0  0  0  0  \n",
       "2  ...        1         0        0  0  0  1  0  0  0  0  \n",
       "3  ...        1         0        0  0  0  1  0  0  0  0  \n",
       "4  ...        1         0        0  1  0  1  0  0  0  0  \n",
       "5  ...        0         0        1  0  0  0  0  0  0  0  \n",
       "\n",
       "[5 rows x 23 columns]"
      ]
     },
     "execution_count": 24,
     "metadata": {},
     "output_type": "execute_result"
    }
   ],
   "source": [
    "df.head()"
   ]
  },
  {
   "cell_type": "markdown",
   "id": "f9f725ee",
   "metadata": {},
   "source": [
    "## Balancing the Target Variable for Train, Test Split"
   ]
  },
  {
   "cell_type": "code",
   "execution_count": 25,
   "id": "df18fabe",
   "metadata": {},
   "outputs": [
    {
     "data": {
      "text/plain": [
       "0    24854\n",
       "1     6825\n",
       "Name: loan_status, dtype: int64"
      ]
     },
     "execution_count": 25,
     "metadata": {},
     "output_type": "execute_result"
    }
   ],
   "source": [
    "df['loan_status'].value_counts()"
   ]
  },
  {
   "cell_type": "code",
   "execution_count": 26,
   "id": "88a3ff85",
   "metadata": {},
   "outputs": [
    {
     "data": {
      "image/png": "[encoded data removed]",
      "text/plain": [
       "<Figure size 432x288 with 1 Axes>"
      ]
     },
     "metadata": {},
     "output_type": "display_data"
    }
   ],
   "source": [
    "sns.countplot(x='loan_status',data=df,palette='RdBu_r')\n",
    "plt.savefig('targetvariable.png')\n",
    "#Unbalanced Dataset"
   ]
  },
  {
   "cell_type": "code",
   "execution_count": 27,
   "id": "17cfd7e2",
   "metadata": {},
   "outputs": [],
   "source": [
    "from collections import Counter\n",
    "from imblearn.over_sampling import SMOTE\n",
    "from sklearn.model_selection import train_test_split\n",
    "import pandas as pd\n",
    "import numpy as np\n",
    "import warnings\n",
    "warnings.simplefilter(action='ignore', category=FutureWarning)"
   ]
  },
  {
   "cell_type": "code",
   "execution_count": 28,
   "id": "e603cdcc",
   "metadata": {},
   "outputs": [],
   "source": [
    "X=df.drop('loan_status',axis=1)\n",
    "y=df['loan_status']"
   ]
  },
  {
   "cell_type": "code",
   "execution_count": 29,
   "id": "b49f24da",
   "metadata": {},
   "outputs": [],
   "source": [
    "X_train, X_test, y_train, y_test = train_test_split(X,y,test_size=0.30)"
   ]
  },
  {
   "cell_type": "code",
   "execution_count": 30,
   "id": "7c90f0b9",
   "metadata": {},
   "outputs": [
    {
     "name": "stdout",
     "output_type": "stream",
     "text": [
      "Before oversampling: Counter({0: 17390, 1: 4785})\n"
     ]
    }
   ],
   "source": [
    "print(\"Before oversampling:\",Counter(y_train))"
   ]
  },
  {
   "cell_type": "code",
   "execution_count": 31,
   "id": "873bb16e",
   "metadata": {},
   "outputs": [],
   "source": [
    "SMOTE = SMOTE()"
   ]
  },
  {
   "cell_type": "code",
   "execution_count": 32,
   "id": "39cc5082",
   "metadata": {},
   "outputs": [],
   "source": [
    "X_train_SMOTE, y_train_SMOTE = SMOTE.fit_resample(X_train, y_train)"
   ]
  },
  {
   "cell_type": "code",
   "execution_count": 33,
   "id": "6e940cca",
   "metadata": {},
   "outputs": [
    {
     "name": "stdout",
     "output_type": "stream",
     "text": [
      "After oversampling:  Counter({0: 17390, 1: 17390})\n"
     ]
    }
   ],
   "source": [
    "print(\"After oversampling: \",Counter(y_train_SMOTE))"
   ]
  },
  {
   "cell_type": "markdown",
   "id": "043aca30",
   "metadata": {},
   "source": [
    "## Testing the Models"
   ]
  },
  {
   "cell_type": "markdown",
   "id": "73ea65cb",
   "metadata": {},
   "source": [
    "## Logistic Regression Model"
   ]
  },
  {
   "cell_type": "code",
   "execution_count": 34,
   "id": "affe9bf3",
   "metadata": {},
   "outputs": [],
   "source": [
    "from sklearn.metrics import classification_report,confusion_matrix\n",
    "from sklearn.linear_model import LogisticRegression"
   ]
  },
  {
   "cell_type": "code",
   "execution_count": 35,
   "id": "a30634d6",
   "metadata": {},
   "outputs": [
    {
     "name": "stdout",
     "output_type": "stream",
     "text": [
      "              precision    recall  f1-score   support\n",
      "\n",
      "           0       0.81      0.98      0.89      7464\n",
      "           1       0.73      0.17      0.27      2040\n",
      "\n",
      "    accuracy                           0.81      9504\n",
      "   macro avg       0.77      0.57      0.58      9504\n",
      "weighted avg       0.79      0.81      0.76      9504\n",
      "\n"
     ]
    },
    {
     "data": {
      "text/plain": [
       "array([[7337,  127],\n",
       "       [1702,  338]], dtype=int64)"
      ]
     },
     "execution_count": 35,
     "metadata": {},
     "output_type": "execute_result"
    }
   ],
   "source": [
    "logmodel_unbal = LogisticRegression(solver='liblinear')\n",
    "\n",
    "logmodel_unbal.fit(X_train, y_train)\n",
    "\n",
    "logpredictions_unbal = logmodel_unbal.predict(X_test)\n",
    "              \n",
    "\n",
    "print(classification_report(y_test,logpredictions_unbal))\n",
    "confusion_matrix(y_test,logpredictions_unbal)"
   ]
  },
  {
   "cell_type": "code",
   "execution_count": 36,
   "id": "e0d8da65",
   "metadata": {},
   "outputs": [
    {
     "name": "stdout",
     "output_type": "stream",
     "text": [
      "              precision    recall  f1-score   support\n",
      "\n",
      "           0       0.91      0.68      0.78      7464\n",
      "           1       0.40      0.77      0.52      2040\n",
      "\n",
      "    accuracy                           0.70      9504\n",
      "   macro avg       0.66      0.72      0.65      9504\n",
      "weighted avg       0.80      0.70      0.73      9504\n",
      "\n"
     ]
    },
    {
     "data": {
      "text/plain": [
       "array([[5082, 2382],\n",
       "       [ 473, 1567]], dtype=int64)"
      ]
     },
     "execution_count": 36,
     "metadata": {},
     "output_type": "execute_result"
    }
   ],
   "source": [
    "logmodel_bal = LogisticRegression(solver='liblinear')\n",
    "\n",
    "logmodel_bal.fit(X_train_SMOTE, y_train_SMOTE)\n",
    "\n",
    "logpredictions_bal = logmodel_bal.predict(X_test)\n",
    "\n",
    "print(classification_report(y_test,logpredictions_bal))\n",
    "confusion_matrix(y_test,logpredictions_bal)"
   ]
  },
  {
   "cell_type": "markdown",
   "id": "19e683bd",
   "metadata": {},
   "source": [
    "## Random Forest Model"
   ]
  },
  {
   "cell_type": "code",
   "execution_count": 37,
   "id": "19253f3e",
   "metadata": {},
   "outputs": [],
   "source": [
    "from sklearn.ensemble import RandomForestClassifier"
   ]
  },
  {
   "cell_type": "code",
   "execution_count": 38,
   "id": "50b7d444",
   "metadata": {},
   "outputs": [
    {
     "name": "stdout",
     "output_type": "stream",
     "text": [
      "[[7412   52]\n",
      " [ 562 1478]]\n",
      "              precision    recall  f1-score   support\n",
      "\n",
      "           0       0.93      0.99      0.96      7464\n",
      "           1       0.97      0.72      0.83      2040\n",
      "\n",
      "    accuracy                           0.94      9504\n",
      "   macro avg       0.95      0.86      0.89      9504\n",
      "weighted avg       0.94      0.94      0.93      9504\n",
      "\n"
     ]
    }
   ],
   "source": [
    "rfc_unbal = RandomForestClassifier(n_estimators=100)\n",
    "\n",
    "rfc_unbal.fit(X_train, y_train)\n",
    "\n",
    "rfc_pred_unbal = rfc_unbal.predict(X_test)\n",
    "\n",
    "print(confusion_matrix(y_test,rfc_pred_unbal))\n",
    "print(classification_report(y_test,rfc_pred_unbal))"
   ]
  },
  {
   "cell_type": "code",
   "execution_count": 39,
   "id": "a6af9eff",
   "metadata": {},
   "outputs": [
    {
     "name": "stdout",
     "output_type": "stream",
     "text": [
      "[[7291  173]\n",
      " [ 545 1495]]\n",
      "              precision    recall  f1-score   support\n",
      "\n",
      "           0       0.93      0.98      0.95      7464\n",
      "           1       0.90      0.73      0.81      2040\n",
      "\n",
      "    accuracy                           0.92      9504\n",
      "   macro avg       0.91      0.85      0.88      9504\n",
      "weighted avg       0.92      0.92      0.92      9504\n",
      "\n"
     ]
    }
   ],
   "source": [
    "rfc_bal = RandomForestClassifier(n_estimators=100)\n",
    "\n",
    "rfc_bal.fit(X_train_SMOTE, y_train_SMOTE)\n",
    "\n",
    "rfc_pred_bal = rfc_bal.predict(X_test)\n",
    "\n",
    "print(confusion_matrix(y_test,rfc_pred_bal))\n",
    "print(classification_report(y_test,rfc_pred_bal))"
   ]
  },
  {
   "cell_type": "markdown",
   "id": "19731a0a",
   "metadata": {},
   "source": [
    "## XGBoost Model"
   ]
  },
  {
   "cell_type": "code",
   "execution_count": 40,
   "id": "9f0ba07a",
   "metadata": {},
   "outputs": [],
   "source": [
    "from numpy import loadtxt\n",
    "import xgboost as xgb\n",
    "from xgboost import XGBClassifier\n",
    "from sklearn.metrics import accuracy_score"
   ]
  },
  {
   "cell_type": "code",
   "execution_count": 41,
   "id": "2c9f149b",
   "metadata": {},
   "outputs": [
    {
     "name": "stdout",
     "output_type": "stream",
     "text": [
      "[[7357  107]\n",
      " [ 484 1556]]\n",
      "              precision    recall  f1-score   support\n",
      "\n",
      "           0       0.94      0.99      0.96      7464\n",
      "           1       0.94      0.76      0.84      2040\n",
      "\n",
      "    accuracy                           0.94      9504\n",
      "   macro avg       0.94      0.87      0.90      9504\n",
      "weighted avg       0.94      0.94      0.94      9504\n",
      "\n"
     ]
    }
   ],
   "source": [
    "xgb_model_unbal = xgb.XGBClassifier(use_label_encoder=False,n_estimators = 220, random_state= 2,eval_metric='mlogloss')\n",
    "xgb_model_unbal.fit(X_train, y_train)\n",
    "xgpredictions_unbal = xgb_model_unbal.predict(X_test)\n",
    "\n",
    "print(confusion_matrix(y_test,xgpredictions_unbal))\n",
    "\n",
    "print(classification_report(y_test,xgpredictions_unbal))"
   ]
  },
  {
   "cell_type": "code",
   "execution_count": 45,
   "id": "ad7fd7e6",
   "metadata": {},
   "outputs": [
    {
     "name": "stdout",
     "output_type": "stream",
     "text": [
      "[[7339  125]\n",
      " [ 493 1547]]\n",
      "              precision    recall  f1-score   support\n",
      "\n",
      "           0       0.94      0.98      0.96      7464\n",
      "           1       0.93      0.76      0.83      2040\n",
      "\n",
      "    accuracy                           0.93      9504\n",
      "   macro avg       0.93      0.87      0.90      9504\n",
      "weighted avg       0.93      0.93      0.93      9504\n",
      "\n"
     ]
    }
   ],
   "source": [
    "xgb_model_bal = xgb.XGBClassifier(use_label_encoder=False, n_estimators = 220, random_state= 2,eval_metric='mlogloss')\n",
    "xgb_model_bal.fit(X_train_SMOTE, y_train_SMOTE)\n",
    "xgpredictions_bal = xgb_model_bal.predict(X_test)\n",
    "\n",
    "print(confusion_matrix(y_test,xgpredictions_bal))\n",
    "\n",
    "print(classification_report(y_test,xgpredictions_bal))"
   ]
  },
  {
   "cell_type": "markdown",
   "id": "aa0f9621",
   "metadata": {},
   "source": [
    "## Conclusion"
   ]
  },
  {
   "cell_type": "code",
   "execution_count": null,
   "id": "081f92cb",
   "metadata": {},
   "outputs": [],
   "source": []
  }
 ],
 "metadata": {
  "kernelspec": {
   "display_name": "Python 3",
   "language": "python",
   "name": "python3"
  },
  "language_info": {
   "codemirror_mode": {
    "name": "ipython",
    "version": 3
   },
   "file_extension": ".py",
   "mimetype": "text/x-python",
   "name": "python",
   "nbconvert_exporter": "python",
   "pygments_lexer": "ipython3",
   "version": "3.8.8"
  }
 },
 "nbformat": 4,
 "nbformat_minor": 5
}
